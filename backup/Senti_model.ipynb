{
 "cells": [
  {
   "cell_type": "code",
   "execution_count": 1,
   "metadata": {},
   "outputs": [],
   "source": [
    "import pandas as pd\n",
    "import numpy as np\n",
    "import seaborn as sns\n",
    "\n",
    "import matplotlib.pyplot as plt\n",
    "%matplotlib inline"
   ]
  },
  {
   "cell_type": "code",
   "execution_count": 2,
   "metadata": {},
   "outputs": [],
   "source": [
    "import nltk\n",
    "from nltk.stem import WordNetLemmatizer \n",
    "from nltk.corpus import stopwords"
   ]
  },
  {
   "cell_type": "code",
   "execution_count": 3,
   "metadata": {},
   "outputs": [
    {
     "name": "stdout",
     "output_type": "stream",
     "text": [
      "[nltk_data] Downloading package stopwords to\n",
      "[nltk_data]     /home/ravishankarbhati/nltk_data...\n",
      "[nltk_data]   Package stopwords is already up-to-date!\n"
     ]
    },
    {
     "data": {
      "text/plain": [
       "True"
      ]
     },
     "execution_count": 3,
     "metadata": {},
     "output_type": "execute_result"
    }
   ],
   "source": [
    "nltk.download('stopwords')"
   ]
  },
  {
   "cell_type": "code",
   "execution_count": 4,
   "metadata": {},
   "outputs": [],
   "source": [
    "df = pd.read_csv(\"../Data/train_F3WbcTw.csv\")"
   ]
  },
  {
   "cell_type": "code",
   "execution_count": 5,
   "metadata": {},
   "outputs": [
    {
     "data": {
      "text/plain": [
       "(5279, 4)"
      ]
     },
     "execution_count": 5,
     "metadata": {},
     "output_type": "execute_result"
    }
   ],
   "source": [
    "df.shape"
   ]
  },
  {
   "cell_type": "code",
   "execution_count": 6,
   "metadata": {},
   "outputs": [
    {
     "data": {
      "text/plain": [
       "Index(['unique_hash', 'text', 'drug', 'sentiment'], dtype='object')"
      ]
     },
     "execution_count": 6,
     "metadata": {},
     "output_type": "execute_result"
    }
   ],
   "source": [
    "df.columns"
   ]
  },
  {
   "cell_type": "code",
   "execution_count": 7,
   "metadata": {},
   "outputs": [
    {
     "data": {
      "text/html": [
       "<div>\n",
       "<style scoped>\n",
       "    .dataframe tbody tr th:only-of-type {\n",
       "        vertical-align: middle;\n",
       "    }\n",
       "\n",
       "    .dataframe tbody tr th {\n",
       "        vertical-align: top;\n",
       "    }\n",
       "\n",
       "    .dataframe thead th {\n",
       "        text-align: right;\n",
       "    }\n",
       "</style>\n",
       "<table border=\"1\" class=\"dataframe\">\n",
       "  <thead>\n",
       "    <tr style=\"text-align: right;\">\n",
       "      <th></th>\n",
       "      <th>unique_hash</th>\n",
       "      <th>text</th>\n",
       "      <th>drug</th>\n",
       "      <th>sentiment</th>\n",
       "    </tr>\n",
       "  </thead>\n",
       "  <tbody>\n",
       "    <tr>\n",
       "      <th>0</th>\n",
       "      <td>2e180be4c9214c1f5ab51fd8cc32bc80c9f612e0</td>\n",
       "      <td>Autoimmune diseases tend to come in clusters. ...</td>\n",
       "      <td>gilenya</td>\n",
       "      <td>2</td>\n",
       "    </tr>\n",
       "    <tr>\n",
       "      <th>1</th>\n",
       "      <td>9eba8f80e7e20f3a2f48685530748fbfa95943e4</td>\n",
       "      <td>I can completely understand why you’d want to ...</td>\n",
       "      <td>gilenya</td>\n",
       "      <td>2</td>\n",
       "    </tr>\n",
       "    <tr>\n",
       "      <th>2</th>\n",
       "      <td>fe809672251f6bd0d986e00380f48d047c7e7b76</td>\n",
       "      <td>Interesting that it only targets S1P-1/5 recep...</td>\n",
       "      <td>fingolimod</td>\n",
       "      <td>2</td>\n",
       "    </tr>\n",
       "    <tr>\n",
       "      <th>3</th>\n",
       "      <td>bd22104dfa9ec80db4099523e03fae7a52735eb6</td>\n",
       "      <td>Very interesting, grand merci. Now I wonder wh...</td>\n",
       "      <td>ocrevus</td>\n",
       "      <td>2</td>\n",
       "    </tr>\n",
       "    <tr>\n",
       "      <th>4</th>\n",
       "      <td>b227688381f9b25e5b65109dd00f7f895e838249</td>\n",
       "      <td>Hi everybody, My latest MRI results for Brain ...</td>\n",
       "      <td>gilenya</td>\n",
       "      <td>1</td>\n",
       "    </tr>\n",
       "  </tbody>\n",
       "</table>\n",
       "</div>"
      ],
      "text/plain": [
       "                                unique_hash  \\\n",
       "0  2e180be4c9214c1f5ab51fd8cc32bc80c9f612e0   \n",
       "1  9eba8f80e7e20f3a2f48685530748fbfa95943e4   \n",
       "2  fe809672251f6bd0d986e00380f48d047c7e7b76   \n",
       "3  bd22104dfa9ec80db4099523e03fae7a52735eb6   \n",
       "4  b227688381f9b25e5b65109dd00f7f895e838249   \n",
       "\n",
       "                                                text        drug  sentiment  \n",
       "0  Autoimmune diseases tend to come in clusters. ...     gilenya          2  \n",
       "1  I can completely understand why you’d want to ...     gilenya          2  \n",
       "2  Interesting that it only targets S1P-1/5 recep...  fingolimod          2  \n",
       "3  Very interesting, grand merci. Now I wonder wh...     ocrevus          2  \n",
       "4  Hi everybody, My latest MRI results for Brain ...     gilenya          1  "
      ]
     },
     "execution_count": 7,
     "metadata": {},
     "output_type": "execute_result"
    }
   ],
   "source": [
    "df.head()"
   ]
  },
  {
   "cell_type": "code",
   "execution_count": 8,
   "metadata": {},
   "outputs": [],
   "source": [
    "df.drop(columns=\"unique_hash\",axis=1,inplace=True)"
   ]
  },
  {
   "cell_type": "code",
   "execution_count": 9,
   "metadata": {},
   "outputs": [
    {
     "data": {
      "text/plain": [
       "(5279, 3)"
      ]
     },
     "execution_count": 9,
     "metadata": {},
     "output_type": "execute_result"
    }
   ],
   "source": [
    "df.shape"
   ]
  },
  {
   "cell_type": "code",
   "execution_count": 10,
   "metadata": {},
   "outputs": [
    {
     "data": {
      "text/plain": [
       "Index(['text', 'drug', 'sentiment'], dtype='object')"
      ]
     },
     "execution_count": 10,
     "metadata": {},
     "output_type": "execute_result"
    }
   ],
   "source": [
    "df.columns"
   ]
  },
  {
   "cell_type": "markdown",
   "metadata": {},
   "source": [
    "### makethe text to lowercase for all"
   ]
  },
  {
   "cell_type": "code",
   "execution_count": 11,
   "metadata": {},
   "outputs": [],
   "source": [
    "df[\"text\"] = df[\"text\"].apply(lambda x:x.lower())"
   ]
  },
  {
   "cell_type": "code",
   "execution_count": 12,
   "metadata": {},
   "outputs": [],
   "source": [
    "#from textblob import TextBlob"
   ]
  },
  {
   "cell_type": "code",
   "execution_count": 13,
   "metadata": {},
   "outputs": [
    {
     "data": {
      "text/html": [
       "<div>\n",
       "<style scoped>\n",
       "    .dataframe tbody tr th:only-of-type {\n",
       "        vertical-align: middle;\n",
       "    }\n",
       "\n",
       "    .dataframe tbody tr th {\n",
       "        vertical-align: top;\n",
       "    }\n",
       "\n",
       "    .dataframe thead th {\n",
       "        text-align: right;\n",
       "    }\n",
       "</style>\n",
       "<table border=\"1\" class=\"dataframe\">\n",
       "  <thead>\n",
       "    <tr style=\"text-align: right;\">\n",
       "      <th></th>\n",
       "      <th>text</th>\n",
       "      <th>drug</th>\n",
       "      <th>sentiment</th>\n",
       "    </tr>\n",
       "  </thead>\n",
       "  <tbody>\n",
       "    <tr>\n",
       "      <th>0</th>\n",
       "      <td>autoimmune diseases tend to come in clusters. ...</td>\n",
       "      <td>gilenya</td>\n",
       "      <td>2</td>\n",
       "    </tr>\n",
       "    <tr>\n",
       "      <th>1</th>\n",
       "      <td>i can completely understand why you’d want to ...</td>\n",
       "      <td>gilenya</td>\n",
       "      <td>2</td>\n",
       "    </tr>\n",
       "    <tr>\n",
       "      <th>2</th>\n",
       "      <td>interesting that it only targets s1p-1/5 recep...</td>\n",
       "      <td>fingolimod</td>\n",
       "      <td>2</td>\n",
       "    </tr>\n",
       "    <tr>\n",
       "      <th>3</th>\n",
       "      <td>very interesting, grand merci. now i wonder wh...</td>\n",
       "      <td>ocrevus</td>\n",
       "      <td>2</td>\n",
       "    </tr>\n",
       "    <tr>\n",
       "      <th>4</th>\n",
       "      <td>hi everybody, my latest mri results for brain ...</td>\n",
       "      <td>gilenya</td>\n",
       "      <td>1</td>\n",
       "    </tr>\n",
       "  </tbody>\n",
       "</table>\n",
       "</div>"
      ],
      "text/plain": [
       "                                                text        drug  sentiment\n",
       "0  autoimmune diseases tend to come in clusters. ...     gilenya          2\n",
       "1  i can completely understand why you’d want to ...     gilenya          2\n",
       "2  interesting that it only targets s1p-1/5 recep...  fingolimod          2\n",
       "3  very interesting, grand merci. now i wonder wh...     ocrevus          2\n",
       "4  hi everybody, my latest mri results for brain ...     gilenya          1"
      ]
     },
     "execution_count": 13,
     "metadata": {},
     "output_type": "execute_result"
    }
   ],
   "source": [
    "df.head()"
   ]
  },
  {
   "cell_type": "markdown",
   "metadata": {},
   "source": [
    "###  get the list of stop words and lemmatize the words"
   ]
  },
  {
   "cell_type": "code",
   "execution_count": 14,
   "metadata": {},
   "outputs": [],
   "source": [
    "stopwords = set(stopwords.words(\"english\"))"
   ]
  },
  {
   "cell_type": "code",
   "execution_count": 15,
   "metadata": {},
   "outputs": [
    {
     "data": {
      "text/plain": [
       "179"
      ]
     },
     "execution_count": 15,
     "metadata": {},
     "output_type": "execute_result"
    }
   ],
   "source": [
    "len(stopwords)"
   ]
  },
  {
   "cell_type": "code",
   "execution_count": 16,
   "metadata": {},
   "outputs": [],
   "source": [
    "#stopwords"
   ]
  },
  {
   "cell_type": "code",
   "execution_count": 17,
   "metadata": {},
   "outputs": [],
   "source": [
    "word_lematizer = WordNetLemmatizer()"
   ]
  },
  {
   "cell_type": "code",
   "execution_count": 18,
   "metadata": {},
   "outputs": [
    {
     "data": {
      "text/plain": [
       "617"
      ]
     },
     "execution_count": 18,
     "metadata": {},
     "output_type": "execute_result"
    }
   ],
   "source": [
    "len(df[ df.sentiment == 0])"
   ]
  },
  {
   "cell_type": "code",
   "execution_count": 19,
   "metadata": {},
   "outputs": [
    {
     "data": {
      "text/plain": [
       "837"
      ]
     },
     "execution_count": 19,
     "metadata": {},
     "output_type": "execute_result"
    }
   ],
   "source": [
    "len(df[ df.sentiment == 1])"
   ]
  },
  {
   "cell_type": "code",
   "execution_count": 20,
   "metadata": {},
   "outputs": [
    {
     "data": {
      "text/plain": [
       "3825"
      ]
     },
     "execution_count": 20,
     "metadata": {},
     "output_type": "execute_result"
    }
   ],
   "source": [
    "len(df[ df.sentiment == 2])"
   ]
  },
  {
   "cell_type": "code",
   "execution_count": 21,
   "metadata": {},
   "outputs": [
    {
     "data": {
      "text/plain": [
       "102"
      ]
     },
     "execution_count": 21,
     "metadata": {},
     "output_type": "execute_result"
    }
   ],
   "source": [
    "len(df.drug.unique())"
   ]
  },
  {
   "cell_type": "code",
   "execution_count": 22,
   "metadata": {},
   "outputs": [],
   "source": [
    "neutral_reviews = df[ df.sentiment == 2].sample(n=617)"
   ]
  },
  {
   "cell_type": "code",
   "execution_count": 23,
   "metadata": {},
   "outputs": [
    {
     "data": {
      "text/html": [
       "<div>\n",
       "<style scoped>\n",
       "    .dataframe tbody tr th:only-of-type {\n",
       "        vertical-align: middle;\n",
       "    }\n",
       "\n",
       "    .dataframe tbody tr th {\n",
       "        vertical-align: top;\n",
       "    }\n",
       "\n",
       "    .dataframe thead th {\n",
       "        text-align: right;\n",
       "    }\n",
       "</style>\n",
       "<table border=\"1\" class=\"dataframe\">\n",
       "  <thead>\n",
       "    <tr style=\"text-align: right;\">\n",
       "      <th></th>\n",
       "      <th>text</th>\n",
       "      <th>drug</th>\n",
       "      <th>sentiment</th>\n",
       "    </tr>\n",
       "  </thead>\n",
       "  <tbody>\n",
       "    <tr>\n",
       "      <th>4473</th>\n",
       "      <td>@hels – i suspect they made the suggestion the...</td>\n",
       "      <td>ocrelizumab</td>\n",
       "      <td>2</td>\n",
       "    </tr>\n",
       "    <tr>\n",
       "      <th>3478</th>\n",
       "      <td>my story started in april 2013 with a very bad...</td>\n",
       "      <td>bevacizumab</td>\n",
       "      <td>2</td>\n",
       "    </tr>\n",
       "    <tr>\n",
       "      <th>4559</th>\n",
       "      <td>been a while!!! how have you been? liz, 27 its...</td>\n",
       "      <td>remicade</td>\n",
       "      <td>2</td>\n",
       "    </tr>\n",
       "    <tr>\n",
       "      <th>787</th>\n",
       "      <td>durham, n.c.--(business wire)--jan 17, 2019--a...</td>\n",
       "      <td>dexamethasone</td>\n",
       "      <td>2</td>\n",
       "    </tr>\n",
       "    <tr>\n",
       "      <th>3279</th>\n",
       "      <td>immune checkpoint proteins on immune t cells, ...</td>\n",
       "      <td>osimertinib</td>\n",
       "      <td>2</td>\n",
       "    </tr>\n",
       "  </tbody>\n",
       "</table>\n",
       "</div>"
      ],
      "text/plain": [
       "                                                   text           drug  \\\n",
       "4473  @hels – i suspect they made the suggestion the...    ocrelizumab   \n",
       "3478  my story started in april 2013 with a very bad...    bevacizumab   \n",
       "4559  been a while!!! how have you been? liz, 27 its...       remicade   \n",
       "787   durham, n.c.--(business wire)--jan 17, 2019--a...  dexamethasone   \n",
       "3279  immune checkpoint proteins on immune t cells, ...    osimertinib   \n",
       "\n",
       "      sentiment  \n",
       "4473          2  \n",
       "3478          2  \n",
       "4559          2  \n",
       "787           2  \n",
       "3279          2  "
      ]
     },
     "execution_count": 23,
     "metadata": {},
     "output_type": "execute_result"
    }
   ],
   "source": [
    "neutral_reviews.head()"
   ]
  },
  {
   "cell_type": "code",
   "execution_count": 24,
   "metadata": {},
   "outputs": [
    {
     "data": {
      "text/plain": [
       "60"
      ]
     },
     "execution_count": 24,
     "metadata": {},
     "output_type": "execute_result"
    }
   ],
   "source": [
    "len(neutral_reviews[\"drug\"].value_counts())"
   ]
  },
  {
   "cell_type": "code",
   "execution_count": 25,
   "metadata": {},
   "outputs": [
    {
     "data": {
      "text/plain": [
       "102"
      ]
     },
     "execution_count": 25,
     "metadata": {},
     "output_type": "execute_result"
    }
   ],
   "source": [
    "len(df[\"drug\"].unique())"
   ]
  },
  {
   "cell_type": "code",
   "execution_count": 26,
   "metadata": {},
   "outputs": [
    {
     "data": {
      "text/plain": [
       "57"
      ]
     },
     "execution_count": 26,
     "metadata": {},
     "output_type": "execute_result"
    }
   ],
   "source": [
    "len(df[df.sentiment == 0][\"drug\"].value_counts())"
   ]
  },
  {
   "cell_type": "code",
   "execution_count": 27,
   "metadata": {},
   "outputs": [
    {
     "data": {
      "text/plain": [
       "54"
      ]
     },
     "execution_count": 27,
     "metadata": {},
     "output_type": "execute_result"
    }
   ],
   "source": [
    "len(df[df.sentiment == 1][\"drug\"].value_counts())"
   ]
  },
  {
   "cell_type": "code",
   "execution_count": 28,
   "metadata": {},
   "outputs": [
    {
     "data": {
      "text/plain": [
       "97"
      ]
     },
     "execution_count": 28,
     "metadata": {},
     "output_type": "execute_result"
    }
   ],
   "source": [
    "len(df[df.sentiment == 2][\"drug\"].value_counts())"
   ]
  },
  {
   "cell_type": "code",
   "execution_count": 29,
   "metadata": {},
   "outputs": [
    {
     "data": {
      "text/plain": [
       "Index(['text', 'drug', 'sentiment'], dtype='object')"
      ]
     },
     "execution_count": 29,
     "metadata": {},
     "output_type": "execute_result"
    }
   ],
   "source": [
    "df.columns"
   ]
  },
  {
   "cell_type": "code",
   "execution_count": 30,
   "metadata": {},
   "outputs": [],
   "source": [
    "neutral_rev= pd.DataFrame(columns=['text', 'drug', 'sentiment'])"
   ]
  },
  {
   "cell_type": "code",
   "execution_count": 31,
   "metadata": {},
   "outputs": [
    {
     "data": {
      "text/html": [
       "<div>\n",
       "<style scoped>\n",
       "    .dataframe tbody tr th:only-of-type {\n",
       "        vertical-align: middle;\n",
       "    }\n",
       "\n",
       "    .dataframe tbody tr th {\n",
       "        vertical-align: top;\n",
       "    }\n",
       "\n",
       "    .dataframe thead th {\n",
       "        text-align: right;\n",
       "    }\n",
       "</style>\n",
       "<table border=\"1\" class=\"dataframe\">\n",
       "  <thead>\n",
       "    <tr style=\"text-align: right;\">\n",
       "      <th></th>\n",
       "      <th>text</th>\n",
       "      <th>drug</th>\n",
       "      <th>sentiment</th>\n",
       "    </tr>\n",
       "  </thead>\n",
       "  <tbody>\n",
       "  </tbody>\n",
       "</table>\n",
       "</div>"
      ],
      "text/plain": [
       "Empty DataFrame\n",
       "Columns: [text, drug, sentiment]\n",
       "Index: []"
      ]
     },
     "execution_count": 31,
     "metadata": {},
     "output_type": "execute_result"
    }
   ],
   "source": [
    "neutral_rev"
   ]
  },
  {
   "cell_type": "code",
   "execution_count": 32,
   "metadata": {},
   "outputs": [],
   "source": [
    "for dg in df.drug.unique() :\n",
    "    neu_review = df[ (df['sentiment']==2) & (df['drug']== dg)]\n",
    "    if(len(neu_review))>15 :\n",
    "        neu_sample = neu_review.sample(n=15)\n",
    "    else :\n",
    "        neu_sample = neu_review\n",
    "    #print(neu_sample)\n",
    "    neutral_rev = neutral_rev.append(neu_sample)\n",
    "    #print(neutral_rev)"
   ]
  },
  {
   "cell_type": "code",
   "execution_count": 33,
   "metadata": {},
   "outputs": [
    {
     "data": {
      "text/plain": [
       "(803, 3)"
      ]
     },
     "execution_count": 33,
     "metadata": {},
     "output_type": "execute_result"
    }
   ],
   "source": [
    "neutral_rev.shape"
   ]
  },
  {
   "cell_type": "code",
   "execution_count": 34,
   "metadata": {},
   "outputs": [
    {
     "data": {
      "text/plain": [
       "True     52\n",
       "False    45\n",
       "Name: drug, dtype: int64"
      ]
     },
     "execution_count": 34,
     "metadata": {},
     "output_type": "execute_result"
    }
   ],
   "source": [
    "( (neutral_rev.drug.value_counts() >=6)).value_counts()"
   ]
  },
  {
   "cell_type": "code",
   "execution_count": 35,
   "metadata": {},
   "outputs": [],
   "source": [
    "#df.drug.value_counts().sort_values(ascending=False)"
   ]
  },
  {
   "cell_type": "code",
   "execution_count": 36,
   "metadata": {},
   "outputs": [],
   "source": [
    "drug_value_counts = df.drug.value_counts().tolist()"
   ]
  },
  {
   "cell_type": "code",
   "execution_count": 37,
   "metadata": {},
   "outputs": [
    {
     "data": {
      "text/plain": [
       "7.0"
      ]
     },
     "execution_count": 37,
     "metadata": {},
     "output_type": "execute_result"
    }
   ],
   "source": [
    "np.median(drug_value_counts)"
   ]
  },
  {
   "cell_type": "code",
   "execution_count": 38,
   "metadata": {},
   "outputs": [
    {
     "data": {
      "text/plain": [
       "116.44483977946336"
      ]
     },
     "execution_count": 38,
     "metadata": {},
     "output_type": "execute_result"
    }
   ],
   "source": [
    "np.std(drug_value_counts)"
   ]
  },
  {
   "cell_type": "code",
   "execution_count": 39,
   "metadata": {},
   "outputs": [
    {
     "data": {
      "text/plain": [
       "[<matplotlib.lines.Line2D at 0x7febd0ec4080>]"
      ]
     },
     "execution_count": 39,
     "metadata": {},
     "output_type": "execute_result"
    },
    {
     "data": {
      "image/png": "[encoded data removed]",
      "text/plain": [
       "<Figure size 432x288 with 1 Axes>"
      ]
     },
     "metadata": {},
     "output_type": "display_data"
    }
   ],
   "source": [
    "plt.plot(drug_value_counts)"
   ]
  },
  {
   "cell_type": "code",
   "execution_count": 40,
   "metadata": {},
   "outputs": [
    {
     "data": {
      "text/plain": [
       "33.0"
      ]
     },
     "execution_count": 40,
     "metadata": {},
     "output_type": "execute_result"
    }
   ],
   "source": [
    "np.percentile(drug_value_counts,75)"
   ]
  },
  {
   "cell_type": "code",
   "execution_count": 41,
   "metadata": {},
   "outputs": [],
   "source": [
    "drug_value_more = ( ( df.drug.value_counts() > int(np.percentile(drug_value_counts,75)) )==True ).keys().tolist()"
   ]
  },
  {
   "cell_type": "code",
   "execution_count": 42,
   "metadata": {},
   "outputs": [
    {
     "data": {
      "text/plain": [
       "(803, 3)"
      ]
     },
     "execution_count": 42,
     "metadata": {},
     "output_type": "execute_result"
    }
   ],
   "source": [
    "neutral_rev.shape"
   ]
  },
  {
   "cell_type": "code",
   "execution_count": 43,
   "metadata": {},
   "outputs": [
    {
     "data": {
      "text/plain": [
       "(617, 3)"
      ]
     },
     "execution_count": 43,
     "metadata": {},
     "output_type": "execute_result"
    }
   ],
   "source": [
    "pos_rev = df[ df.sentiment==0 ]\n",
    "pos_rev.shape"
   ]
  },
  {
   "cell_type": "code",
   "execution_count": 44,
   "metadata": {},
   "outputs": [
    {
     "data": {
      "text/plain": [
       "(837, 3)"
      ]
     },
     "execution_count": 44,
     "metadata": {},
     "output_type": "execute_result"
    }
   ],
   "source": [
    "neg_rev= df[ df.sentiment==1]\n",
    "neg_rev.shape"
   ]
  },
  {
   "cell_type": "code",
   "execution_count": 45,
   "metadata": {
    "scrolled": true
   },
   "outputs": [
    {
     "data": {
      "text/html": [
       "<div>\n",
       "<style scoped>\n",
       "    .dataframe tbody tr th:only-of-type {\n",
       "        vertical-align: middle;\n",
       "    }\n",
       "\n",
       "    .dataframe tbody tr th {\n",
       "        vertical-align: top;\n",
       "    }\n",
       "\n",
       "    .dataframe thead th {\n",
       "        text-align: right;\n",
       "    }\n",
       "</style>\n",
       "<table border=\"1\" class=\"dataframe\">\n",
       "  <thead>\n",
       "    <tr style=\"text-align: right;\">\n",
       "      <th></th>\n",
       "      <th>text</th>\n",
       "      <th>drug</th>\n",
       "      <th>sentiment</th>\n",
       "    </tr>\n",
       "  </thead>\n",
       "  <tbody>\n",
       "    <tr>\n",
       "      <th>5233</th>\n",
       "      <td>hi tia, i was diagnosed with rrms in march of ...</td>\n",
       "      <td>gilenya</td>\n",
       "      <td>2</td>\n",
       "    </tr>\n",
       "    <tr>\n",
       "      <th>3744</th>\n",
       "      <td>pardon me for saying it like this, but damn gi...</td>\n",
       "      <td>gilenya</td>\n",
       "      <td>2</td>\n",
       "    </tr>\n",
       "  </tbody>\n",
       "</table>\n",
       "</div>"
      ],
      "text/plain": [
       "                                                   text     drug sentiment\n",
       "5233  hi tia, i was diagnosed with rrms in march of ...  gilenya         2\n",
       "3744  pardon me for saying it like this, but damn gi...  gilenya         2"
      ]
     },
     "execution_count": 45,
     "metadata": {},
     "output_type": "execute_result"
    }
   ],
   "source": [
    "neutral_rev.head(2)"
   ]
  },
  {
   "cell_type": "code",
   "execution_count": 46,
   "metadata": {},
   "outputs": [],
   "source": [
    "neu_rev= neutral_rev"
   ]
  },
  {
   "cell_type": "code",
   "execution_count": 47,
   "metadata": {},
   "outputs": [
    {
     "data": {
      "text/html": [
       "<div>\n",
       "<style scoped>\n",
       "    .dataframe tbody tr th:only-of-type {\n",
       "        vertical-align: middle;\n",
       "    }\n",
       "\n",
       "    .dataframe tbody tr th {\n",
       "        vertical-align: top;\n",
       "    }\n",
       "\n",
       "    .dataframe thead th {\n",
       "        text-align: right;\n",
       "    }\n",
       "</style>\n",
       "<table border=\"1\" class=\"dataframe\">\n",
       "  <thead>\n",
       "    <tr style=\"text-align: right;\">\n",
       "      <th></th>\n",
       "      <th>text</th>\n",
       "      <th>drug</th>\n",
       "      <th>sentiment</th>\n",
       "    </tr>\n",
       "  </thead>\n",
       "  <tbody>\n",
       "    <tr>\n",
       "      <th>6</th>\n",
       "      <td>reply posted for jesszidek. hi jess sorry to r...</td>\n",
       "      <td>humira</td>\n",
       "      <td>0</td>\n",
       "    </tr>\n",
       "    <tr>\n",
       "      <th>28</th>\n",
       "      <td>last updated: january 01, 2017.  share | comme...</td>\n",
       "      <td>ocrelizumab</td>\n",
       "      <td>0</td>\n",
       "    </tr>\n",
       "  </tbody>\n",
       "</table>\n",
       "</div>"
      ],
      "text/plain": [
       "                                                 text         drug  sentiment\n",
       "6   reply posted for jesszidek. hi jess sorry to r...       humira          0\n",
       "28  last updated: january 01, 2017.  share | comme...  ocrelizumab          0"
      ]
     },
     "execution_count": 47,
     "metadata": {},
     "output_type": "execute_result"
    }
   ],
   "source": [
    "pos_rev.head(2)"
   ]
  },
  {
   "cell_type": "code",
   "execution_count": 48,
   "metadata": {},
   "outputs": [
    {
     "data": {
      "text/html": [
       "<div>\n",
       "<style scoped>\n",
       "    .dataframe tbody tr th:only-of-type {\n",
       "        vertical-align: middle;\n",
       "    }\n",
       "\n",
       "    .dataframe tbody tr th {\n",
       "        vertical-align: top;\n",
       "    }\n",
       "\n",
       "    .dataframe thead th {\n",
       "        text-align: right;\n",
       "    }\n",
       "</style>\n",
       "<table border=\"1\" class=\"dataframe\">\n",
       "  <thead>\n",
       "    <tr style=\"text-align: right;\">\n",
       "      <th></th>\n",
       "      <th>text</th>\n",
       "      <th>drug</th>\n",
       "      <th>sentiment</th>\n",
       "    </tr>\n",
       "  </thead>\n",
       "  <tbody>\n",
       "    <tr>\n",
       "      <th>4</th>\n",
       "      <td>hi everybody, my latest mri results for brain ...</td>\n",
       "      <td>gilenya</td>\n",
       "      <td>1</td>\n",
       "    </tr>\n",
       "    <tr>\n",
       "      <th>8</th>\n",
       "      <td>why do you think that fingolimod was such a mi...</td>\n",
       "      <td>fingolimod</td>\n",
       "      <td>1</td>\n",
       "    </tr>\n",
       "  </tbody>\n",
       "</table>\n",
       "</div>"
      ],
      "text/plain": [
       "                                                text        drug  sentiment\n",
       "4  hi everybody, my latest mri results for brain ...     gilenya          1\n",
       "8  why do you think that fingolimod was such a mi...  fingolimod          1"
      ]
     },
     "execution_count": 48,
     "metadata": {},
     "output_type": "execute_result"
    }
   ],
   "source": [
    "neg_rev.head(2)"
   ]
  },
  {
   "cell_type": "markdown",
   "metadata": {},
   "source": [
    "##  data pre processing done"
   ]
  },
  {
   "cell_type": "markdown",
   "metadata": {},
   "source": [
    "## taking the test data given an dformatting it to run the model on it "
   ]
  },
  {
   "cell_type": "code",
   "execution_count": 49,
   "metadata": {},
   "outputs": [],
   "source": [
    "def hasNumbers(inputString):\n",
    "    return any(char.isdigit() for char in inputString)"
   ]
  },
  {
   "cell_type": "code",
   "execution_count": 50,
   "metadata": {},
   "outputs": [],
   "source": [
    "def GetTokens(text):\n",
    "    \n",
    "    tokens = nltk.tokenize.word_tokenize(text)\n",
    "    tokens = [t for t in tokens if (len(t)>2)]\n",
    "    #tokens = [t for t in tokens if (hasNumbers(t)==False) ]\n",
    "    tokens = [t for t in tokens if t not in stopwords]\n",
    "    tokens = [ word_lematizer.lemmatize(t) for t in tokens]\n",
    "    \n",
    "    return tokens\n",
    "\n",
    "current_index=0\n",
    "pos_tokens = []\n",
    "neg_tokens = []\n",
    "neu_tokens = []\n",
    "word_index_map = {}\n",
    "\n",
    "pos_tokenized = []\n",
    "neg_tokenized = []\n",
    "neu_tokenized = []\n",
    "\n",
    "for review in pos_rev.text :\n",
    "    tokens = GetTokens(review)\n",
    "    pos_tokenized.append(tokens)\n",
    "    for token in tokens:\n",
    "        if(token not in word_index_map) :\n",
    "            word_index_map[token]=current_index\n",
    "            current_index += 1\n",
    "\n",
    "for review in neg_rev.text :\n",
    "    tokens = GetTokens(review)\n",
    "    neg_tokenized.append(tokens)\n",
    "    for token in tokens:\n",
    "        if(token not in word_index_map) :\n",
    "            word_index_map[token]=current_index\n",
    "            current_index += 1\n",
    "\n",
    "for review in neu_rev.text :\n",
    "    tokens = GetTokens(review)\n",
    "    neu_tokenized.append(tokens)\n",
    "    for token in tokens:\n",
    "        if(token not in word_index_map) :\n",
    "            word_index_map[token]=current_index\n",
    "            current_index += 1"
   ]
  },
  {
   "cell_type": "code",
   "execution_count": 115,
   "metadata": {},
   "outputs": [],
   "source": [
    "#datatest = np.zeros( ( len(pos_tokenized)+len(neg_tokenized)+len(neu_tokenized), len(word_index_map)) )"
   ]
  },
  {
   "cell_type": "code",
   "execution_count": 116,
   "metadata": {},
   "outputs": [],
   "source": [
    "#len(word_index_map)"
   ]
  },
  {
   "cell_type": "code",
   "execution_count": 51,
   "metadata": {},
   "outputs": [],
   "source": [
    "data = np.zeros( ( len(pos_tokenized)+len(neg_tokenized)+len(neu_tokenized), len(word_index_map)+1 ) )"
   ]
  },
  {
   "cell_type": "code",
   "execution_count": 52,
   "metadata": {},
   "outputs": [
    {
     "data": {
      "text/plain": [
       "(2257, 32749)"
      ]
     },
     "execution_count": 52,
     "metadata": {},
     "output_type": "execute_result"
    }
   ],
   "source": [
    "data.shape"
   ]
  },
  {
   "cell_type": "code",
   "execution_count": 53,
   "metadata": {},
   "outputs": [],
   "source": [
    "def TokenToVectors(tokens,label) :\n",
    "    x= np.zeros(len(word_index_map) +1)\n",
    "    \n",
    "    for token in tokens:\n",
    "        index = word_index_map[token]\n",
    "        x[index] +=1\n",
    "    \n",
    "    x = x/x.sum()\n",
    "    x[-1]=label\n",
    "    \n",
    "    return x\n",
    "\n",
    "i =0\n",
    "\n",
    "for tokens in pos_tokenized :\n",
    "    x_row = TokenToVectors(tokens,0)\n",
    "    data[i,:]= x_row\n",
    "    i += 1\n",
    "\n",
    "for tokens in neg_tokenized :\n",
    "    x_row = TokenToVectors(tokens,1)\n",
    "    data[i,:]= x_row\n",
    "    i += 1\n",
    "\n",
    "for tokens in neu_tokenized :\n",
    "    x_row = TokenToVectors(tokens,2)\n",
    "    data[i,:]= x_row\n",
    "    i += 1"
   ]
  },
  {
   "cell_type": "code",
   "execution_count": 54,
   "metadata": {},
   "outputs": [
    {
     "data": {
      "text/plain": [
       "(2257, 32749)"
      ]
     },
     "execution_count": 54,
     "metadata": {},
     "output_type": "execute_result"
    }
   ],
   "source": [
    "data.shape"
   ]
  },
  {
   "cell_type": "markdown",
   "metadata": {},
   "source": [
    "### split the data and create models"
   ]
  },
  {
   "cell_type": "code",
   "execution_count": 55,
   "metadata": {},
   "outputs": [],
   "source": [
    "np.random.shuffle(data)"
   ]
  },
  {
   "cell_type": "code",
   "execution_count": 56,
   "metadata": {},
   "outputs": [],
   "source": [
    "total_len=int(len(data) * 0.8)"
   ]
  },
  {
   "cell_type": "code",
   "execution_count": 57,
   "metadata": {},
   "outputs": [
    {
     "data": {
      "text/plain": [
       "1805"
      ]
     },
     "execution_count": 57,
     "metadata": {},
     "output_type": "execute_result"
    }
   ],
   "source": [
    "total_len"
   ]
  },
  {
   "cell_type": "code",
   "execution_count": 58,
   "metadata": {},
   "outputs": [],
   "source": [
    "X = data[: , :-1]\n",
    "Y = data[:,-1]\n",
    "\n",
    "X_train = X[0:total_len , :]\n",
    "Y_train = Y[0:total_len]\n",
    "\n",
    "X_test = X[total_len : , :]\n",
    "Y_test = Y[total_len:]"
   ]
  },
  {
   "cell_type": "code",
   "execution_count": 59,
   "metadata": {},
   "outputs": [],
   "source": [
    "from sklearn.linear_model import LogisticRegression"
   ]
  },
  {
   "cell_type": "code",
   "execution_count": 60,
   "metadata": {},
   "outputs": [],
   "source": [
    "logis_model = LogisticRegression()"
   ]
  },
  {
   "cell_type": "code",
   "execution_count": 61,
   "metadata": {},
   "outputs": [
    {
     "data": {
      "text/plain": [
       "LogisticRegression(C=1.0, class_weight=None, dual=False, fit_intercept=True,\n",
       "          intercept_scaling=1, max_iter=100, multi_class='ovr', n_jobs=1,\n",
       "          penalty='l2', random_state=None, solver='liblinear', tol=0.0001,\n",
       "          verbose=0, warm_start=False)"
      ]
     },
     "execution_count": 61,
     "metadata": {},
     "output_type": "execute_result"
    }
   ],
   "source": [
    "logis_model.fit(X,Y)"
   ]
  },
  {
   "cell_type": "code",
   "execution_count": 62,
   "metadata": {},
   "outputs": [
    {
     "data": {
      "text/plain": [
       "0.5569339831634914"
      ]
     },
     "execution_count": 62,
     "metadata": {},
     "output_type": "execute_result"
    }
   ],
   "source": [
    "logis_model.score(X,Y)"
   ]
  },
  {
   "cell_type": "code",
   "execution_count": 63,
   "metadata": {},
   "outputs": [],
   "source": [
    "from sklearn.ensemble import RandomForestClassifier\n",
    "\n",
    "randomforest_model = RandomForestClassifier(n_estimators=10)"
   ]
  },
  {
   "cell_type": "code",
   "execution_count": 64,
   "metadata": {},
   "outputs": [
    {
     "data": {
      "text/plain": [
       "RandomForestClassifier(bootstrap=True, class_weight=None, criterion='gini',\n",
       "            max_depth=None, max_features='auto', max_leaf_nodes=None,\n",
       "            min_impurity_decrease=0.0, min_impurity_split=None,\n",
       "            min_samples_leaf=1, min_samples_split=2,\n",
       "            min_weight_fraction_leaf=0.0, n_estimators=10, n_jobs=1,\n",
       "            oob_score=False, random_state=None, verbose=0,\n",
       "            warm_start=False)"
      ]
     },
     "execution_count": 64,
     "metadata": {},
     "output_type": "execute_result"
    }
   ],
   "source": [
    "randomforest_model.fit(X,Y)"
   ]
  },
  {
   "cell_type": "code",
   "execution_count": 65,
   "metadata": {},
   "outputs": [
    {
     "data": {
      "text/plain": [
       "0.9853788214443953"
      ]
     },
     "execution_count": 65,
     "metadata": {},
     "output_type": "execute_result"
    }
   ],
   "source": [
    "randomforest_model.score(X,Y)"
   ]
  },
  {
   "cell_type": "code",
   "execution_count": 66,
   "metadata": {},
   "outputs": [],
   "source": [
    "import lightgbm as lgb"
   ]
  },
  {
   "cell_type": "code",
   "execution_count": 67,
   "metadata": {},
   "outputs": [
    {
     "name": "stdout",
     "output_type": "stream",
     "text": [
      "[20]\tcv_agg's multi_logloss: 0.946343 + 0.00731558\n",
      "[40]\tcv_agg's multi_logloss: 0.890214 + 0.0154192\n",
      "[60]\tcv_agg's multi_logloss: 0.863366 + 0.0213643\n",
      "[80]\tcv_agg's multi_logloss: 0.855946 + 0.0240862\n",
      "[100]\tcv_agg's multi_logloss: 0.854794 + 0.0252376\n",
      "[120]\tcv_agg's multi_logloss: 0.85837 + 0.0293523\n",
      "[140]\tcv_agg's multi_logloss: 0.863364 + 0.0330091\n",
      "[160]\tcv_agg's multi_logloss: 0.87374 + 0.0365714\n",
      "[180]\tcv_agg's multi_logloss: 0.885819 + 0.0411872\n",
      "93\n"
     ]
    }
   ],
   "source": [
    "lgb_train = lgb.Dataset(X,Y)\n",
    "#lgb_eval = lgb.Dataset(, Y, reference=lgb_train)\n",
    "params = {}\n",
    "params['learning_rate'] = 0.05\n",
    "params['boosting_type'] = 'gbdt'\n",
    "params['objective'] = 'multiclass'\n",
    "params['num_class'] = 3\n",
    "params['metric'] = 'multi_logloss'\n",
    "params['sub_feature'] = 0.8\n",
    "params['num_leaves'] = 60\n",
    "#params['min_data'] = 500\n",
    "params['bagging_fraction'] = 0.6\n",
    "params['bagging_freq'] = 3\n",
    "\n",
    "#lgb_model = lgb.train(params,lgb_train,num_boost_round=1000)\n",
    "lgb_cv = lgb.cv(params, lgb_train, num_boost_round=1000, nfold=5, shuffle=True, stratified=True, verbose_eval=20, early_stopping_rounds=100)\n",
    "\n",
    "nround = lgb_cv['multi_logloss-mean'].index(np.min(lgb_cv['multi_logloss-mean']))\n",
    "print(nround)\n",
    "\n",
    "model = lgb.train(params, lgb_train, num_boost_round=nround)"
   ]
  },
  {
   "cell_type": "code",
   "execution_count": null,
   "metadata": {},
   "outputs": [],
   "source": []
  },
  {
   "cell_type": "markdown",
   "metadata": {},
   "source": [
    "## import the test data and run the model on it"
   ]
  },
  {
   "cell_type": "code",
   "execution_count": 68,
   "metadata": {},
   "outputs": [],
   "source": [
    "testdata= pd.read_csv(\"../Data/test_tOlRoBf.csv\")"
   ]
  },
  {
   "cell_type": "code",
   "execution_count": 69,
   "metadata": {
    "scrolled": true
   },
   "outputs": [
    {
     "data": {
      "text/html": [
       "<div>\n",
       "<style scoped>\n",
       "    .dataframe tbody tr th:only-of-type {\n",
       "        vertical-align: middle;\n",
       "    }\n",
       "\n",
       "    .dataframe tbody tr th {\n",
       "        vertical-align: top;\n",
       "    }\n",
       "\n",
       "    .dataframe thead th {\n",
       "        text-align: right;\n",
       "    }\n",
       "</style>\n",
       "<table border=\"1\" class=\"dataframe\">\n",
       "  <thead>\n",
       "    <tr style=\"text-align: right;\">\n",
       "      <th></th>\n",
       "      <th>unique_hash</th>\n",
       "      <th>text</th>\n",
       "      <th>drug</th>\n",
       "    </tr>\n",
       "  </thead>\n",
       "  <tbody>\n",
       "    <tr>\n",
       "      <th>0</th>\n",
       "      <td>9e9a8166b84114aca147bf409f6f956635034c08</td>\n",
       "      <td>256 (previously stable on natalizumab), with 5...</td>\n",
       "      <td>fingolimod</td>\n",
       "    </tr>\n",
       "    <tr>\n",
       "      <th>1</th>\n",
       "      <td>e747e6822c867571afe7b907b51f0f2ca67b0e1a</td>\n",
       "      <td>On fingolimod and have been since December 201...</td>\n",
       "      <td>fingolimod</td>\n",
       "    </tr>\n",
       "    <tr>\n",
       "      <th>2</th>\n",
       "      <td>50b6d851bcff4f35afe354937949e9948975adf7</td>\n",
       "      <td>Apparently it's shingles! :-/ I do have a few ...</td>\n",
       "      <td>humira</td>\n",
       "    </tr>\n",
       "    <tr>\n",
       "      <th>3</th>\n",
       "      <td>7f82ec2176ae6ab0b5d20b5ffc767ac829f384ae</td>\n",
       "      <td>If the Docetaxel doing once a week x3 weeks th...</td>\n",
       "      <td>tagrisso</td>\n",
       "    </tr>\n",
       "    <tr>\n",
       "      <th>4</th>\n",
       "      <td>8b37d169dee5bdae27060949242fb54feb6a7f7f</td>\n",
       "      <td>CC, Stelara worked in a matter of days for me....</td>\n",
       "      <td>stelara</td>\n",
       "    </tr>\n",
       "  </tbody>\n",
       "</table>\n",
       "</div>"
      ],
      "text/plain": [
       "                                unique_hash  \\\n",
       "0  9e9a8166b84114aca147bf409f6f956635034c08   \n",
       "1  e747e6822c867571afe7b907b51f0f2ca67b0e1a   \n",
       "2  50b6d851bcff4f35afe354937949e9948975adf7   \n",
       "3  7f82ec2176ae6ab0b5d20b5ffc767ac829f384ae   \n",
       "4  8b37d169dee5bdae27060949242fb54feb6a7f7f   \n",
       "\n",
       "                                                text        drug  \n",
       "0  256 (previously stable on natalizumab), with 5...  fingolimod  \n",
       "1  On fingolimod and have been since December 201...  fingolimod  \n",
       "2  Apparently it's shingles! :-/ I do have a few ...      humira  \n",
       "3  If the Docetaxel doing once a week x3 weeks th...    tagrisso  \n",
       "4  CC, Stelara worked in a matter of days for me....     stelara  "
      ]
     },
     "execution_count": 69,
     "metadata": {},
     "output_type": "execute_result"
    }
   ],
   "source": [
    "testdata.head()"
   ]
  },
  {
   "cell_type": "code",
   "execution_count": 70,
   "metadata": {},
   "outputs": [],
   "source": [
    "testdata[\"text\"] = testdata[\"text\"].apply(lambda x:x.lower())"
   ]
  },
  {
   "cell_type": "code",
   "execution_count": 71,
   "metadata": {},
   "outputs": [
    {
     "data": {
      "text/plain": [
       "(2924, 3)"
      ]
     },
     "execution_count": 71,
     "metadata": {},
     "output_type": "execute_result"
    }
   ],
   "source": [
    "testdata.shape"
   ]
  },
  {
   "cell_type": "code",
   "execution_count": 72,
   "metadata": {},
   "outputs": [],
   "source": [
    "#samplesubmission = pd.read_csv(\"../Data/sample_submission_i5xnIZD.csv\")"
   ]
  },
  {
   "cell_type": "code",
   "execution_count": 73,
   "metadata": {},
   "outputs": [],
   "source": [
    "#samplesubmission.head()"
   ]
  },
  {
   "cell_type": "code",
   "execution_count": 74,
   "metadata": {},
   "outputs": [],
   "source": [
    "current_index=0\n",
    "pos_tokens = []\n",
    "neg_tokens = []\n",
    "neu_tokens = []\n",
    "word_index_map_test = {}\n",
    "\n",
    "review_tokenized = []\n",
    "\n",
    "for review in testdata.text :\n",
    "    tokens = GetTokens(review)\n",
    "    \n",
    "    for token in tokens:\n",
    "        if(token not in word_index_map) :\n",
    "            tokens.remove(token)\n",
    "    \n",
    "    review_tokenized.append(tokens)\n",
    "    "
   ]
  },
  {
   "cell_type": "code",
   "execution_count": 75,
   "metadata": {},
   "outputs": [],
   "source": [
    "datatest = np.zeros( ( len(review_tokenized), len(word_index_map)) )"
   ]
  },
  {
   "cell_type": "code",
   "execution_count": 76,
   "metadata": {},
   "outputs": [
    {
     "data": {
      "text/plain": [
       "(2924, 32748)"
      ]
     },
     "execution_count": 76,
     "metadata": {},
     "output_type": "execute_result"
    }
   ],
   "source": [
    "datatest.shape"
   ]
  },
  {
   "cell_type": "code",
   "execution_count": 77,
   "metadata": {},
   "outputs": [],
   "source": [
    "def TokenToVectorsTest(tokens) :\n",
    "    x= np.zeros(len(word_index_map))\n",
    "    \n",
    "    for token in tokens:\n",
    "        if(token in word_index_map):\n",
    "            index = word_index_map[token]\n",
    "            x[index] +=1\n",
    "    \n",
    "    x = x/x.sum()\n",
    "    #x[-1]=label\n",
    "    \n",
    "    return x"
   ]
  },
  {
   "cell_type": "code",
   "execution_count": 78,
   "metadata": {},
   "outputs": [
    {
     "data": {
      "text/plain": [
       "['256', 'previously', 'stable', 'natalizumab', 'switching', 'fingolimod']"
      ]
     },
     "execution_count": 78,
     "metadata": {},
     "output_type": "execute_result"
    }
   ],
   "source": [
    "review_tokenized[0]"
   ]
  },
  {
   "cell_type": "code",
   "execution_count": 79,
   "metadata": {},
   "outputs": [],
   "source": [
    "i =0\n",
    "\n",
    "for tokens in review_tokenized :\n",
    "    #print(tokens)\n",
    "    x_row = TokenToVectorsTest(tokens)\n",
    "    datatest[i,:]= x_row\n",
    "    i += 1\n"
   ]
  },
  {
   "cell_type": "code",
   "execution_count": 80,
   "metadata": {},
   "outputs": [],
   "source": [
    "#ypreds = randomforest_model.predict(datatest)"
   ]
  },
  {
   "cell_type": "code",
   "execution_count": 81,
   "metadata": {},
   "outputs": [],
   "source": [
    "ypreds1 = model.predict(datatest)"
   ]
  },
  {
   "cell_type": "code",
   "execution_count": 82,
   "metadata": {},
   "outputs": [],
   "source": [
    "ypreds = []\n",
    "\n",
    "for x in ypreds1:\n",
    "    ypreds.append(np.argmax(x))"
   ]
  },
  {
   "cell_type": "code",
   "execution_count": 83,
   "metadata": {},
   "outputs": [],
   "source": [
    "from sklearn.metrics import f1_score"
   ]
  },
  {
   "cell_type": "code",
   "execution_count": 85,
   "metadata": {},
   "outputs": [
    {
     "data": {
      "text/plain": [
       "2924"
      ]
     },
     "execution_count": 85,
     "metadata": {},
     "output_type": "execute_result"
    }
   ],
   "source": [
    "len(ypreds)"
   ]
  },
  {
   "cell_type": "code",
   "execution_count": null,
   "metadata": {},
   "outputs": [],
   "source": []
  },
  {
   "cell_type": "code",
   "execution_count": 86,
   "metadata": {},
   "outputs": [],
   "source": [
    "testdata[\"sentiment\"] = [ y for y in ypreds]"
   ]
  },
  {
   "cell_type": "code",
   "execution_count": 87,
   "metadata": {},
   "outputs": [
    {
     "data": {
      "text/html": [
       "<div>\n",
       "<style scoped>\n",
       "    .dataframe tbody tr th:only-of-type {\n",
       "        vertical-align: middle;\n",
       "    }\n",
       "\n",
       "    .dataframe tbody tr th {\n",
       "        vertical-align: top;\n",
       "    }\n",
       "\n",
       "    .dataframe thead th {\n",
       "        text-align: right;\n",
       "    }\n",
       "</style>\n",
       "<table border=\"1\" class=\"dataframe\">\n",
       "  <thead>\n",
       "    <tr style=\"text-align: right;\">\n",
       "      <th></th>\n",
       "      <th>unique_hash</th>\n",
       "      <th>text</th>\n",
       "      <th>drug</th>\n",
       "      <th>sentiment</th>\n",
       "    </tr>\n",
       "  </thead>\n",
       "  <tbody>\n",
       "    <tr>\n",
       "      <th>0</th>\n",
       "      <td>9e9a8166b84114aca147bf409f6f956635034c08</td>\n",
       "      <td>256 (previously stable on natalizumab), with 5...</td>\n",
       "      <td>fingolimod</td>\n",
       "      <td>1</td>\n",
       "    </tr>\n",
       "    <tr>\n",
       "      <th>1</th>\n",
       "      <td>e747e6822c867571afe7b907b51f0f2ca67b0e1a</td>\n",
       "      <td>on fingolimod and have been since december 201...</td>\n",
       "      <td>fingolimod</td>\n",
       "      <td>0</td>\n",
       "    </tr>\n",
       "    <tr>\n",
       "      <th>2</th>\n",
       "      <td>50b6d851bcff4f35afe354937949e9948975adf7</td>\n",
       "      <td>apparently it's shingles! :-/ i do have a few ...</td>\n",
       "      <td>humira</td>\n",
       "      <td>1</td>\n",
       "    </tr>\n",
       "    <tr>\n",
       "      <th>3</th>\n",
       "      <td>7f82ec2176ae6ab0b5d20b5ffc767ac829f384ae</td>\n",
       "      <td>if the docetaxel doing once a week x3 weeks th...</td>\n",
       "      <td>tagrisso</td>\n",
       "      <td>2</td>\n",
       "    </tr>\n",
       "    <tr>\n",
       "      <th>4</th>\n",
       "      <td>8b37d169dee5bdae27060949242fb54feb6a7f7f</td>\n",
       "      <td>cc, stelara worked in a matter of days for me....</td>\n",
       "      <td>stelara</td>\n",
       "      <td>1</td>\n",
       "    </tr>\n",
       "  </tbody>\n",
       "</table>\n",
       "</div>"
      ],
      "text/plain": [
       "                                unique_hash  \\\n",
       "0  9e9a8166b84114aca147bf409f6f956635034c08   \n",
       "1  e747e6822c867571afe7b907b51f0f2ca67b0e1a   \n",
       "2  50b6d851bcff4f35afe354937949e9948975adf7   \n",
       "3  7f82ec2176ae6ab0b5d20b5ffc767ac829f384ae   \n",
       "4  8b37d169dee5bdae27060949242fb54feb6a7f7f   \n",
       "\n",
       "                                                text        drug  sentiment  \n",
       "0  256 (previously stable on natalizumab), with 5...  fingolimod          1  \n",
       "1  on fingolimod and have been since december 201...  fingolimod          0  \n",
       "2  apparently it's shingles! :-/ i do have a few ...      humira          1  \n",
       "3  if the docetaxel doing once a week x3 weeks th...    tagrisso          2  \n",
       "4  cc, stelara worked in a matter of days for me....     stelara          1  "
      ]
     },
     "execution_count": 87,
     "metadata": {},
     "output_type": "execute_result"
    }
   ],
   "source": [
    "testdata.head()"
   ]
  },
  {
   "cell_type": "code",
   "execution_count": 88,
   "metadata": {},
   "outputs": [],
   "source": [
    "final_submission_file = testdata[[\"unique_hash\",\"sentiment\"]]"
   ]
  },
  {
   "cell_type": "code",
   "execution_count": 89,
   "metadata": {},
   "outputs": [
    {
     "data": {
      "text/plain": [
       "(2924, 2)"
      ]
     },
     "execution_count": 89,
     "metadata": {},
     "output_type": "execute_result"
    }
   ],
   "source": [
    "final_submission_file.shape"
   ]
  },
  {
   "cell_type": "code",
   "execution_count": 90,
   "metadata": {},
   "outputs": [],
   "source": [
    "final_submission_file.to_csv(\"submission.csv\",index=False)"
   ]
  },
  {
   "cell_type": "code",
   "execution_count": null,
   "metadata": {},
   "outputs": [],
   "source": []
  },
  {
   "cell_type": "markdown",
   "metadata": {},
   "source": [
    "# <red><b><h2> try removing urls, creating category for integers/numbers</h2></b></red>"
   ]
  },
  {
   "cell_type": "code",
   "execution_count": 91,
   "metadata": {},
   "outputs": [],
   "source": [
    "import re"
   ]
  },
  {
   "cell_type": "code",
   "execution_count": 92,
   "metadata": {},
   "outputs": [],
   "source": [
    "#keys= (valdf.sum()).keys().tolist()"
   ]
  },
  {
   "cell_type": "code",
   "execution_count": 108,
   "metadata": {},
   "outputs": [
    {
     "name": "stdout",
     "output_type": "stream",
     "text": [
      "//www.crohnscolitisfoundation.org/assets/pdfs/understanding-ibd-meds-nov.pdf\n",
      "-engineered\n",
      "-medicare\n",
      "'ll\n",
      "*not\n",
      "'ve\n",
      "~~~~~~~~~~~~~~~~~~~~~~~~~~~~~~~~~~~~~\n",
      "===================================\n",
      "...\n",
      "//cancergrace.org/blog/jim-and-lisa\n",
      "//www.ncbi.nlm.nih.gov/pubmed/28391420\n",
      "//shift.ms/msreporters\n",
      "//www.facebook.com/shift.ms/\n",
      "//www.instagram.com/shiftdotms/\n",
      "//twitter.com/shiftms\n",
      "=================================================================\n",
      "//insidemystory.com/\n",
      "===============================================================\n",
      "//www.mstrust.org.uk/a-z/ocrelizumab\n",
      "-active\n",
      "^_^\n",
      "'re\n",
      "=24\n",
      "//www.cancer.gov/types/colorectal/patient/colon-treatment-pdq\n",
      "//www.ncbi.nlm.nih.gov/pmc/articles/pmc5401676/\n",
      "//cancergrace.org/lung/2017/09/28/targeted-therapies-in-lung-cancer-patient-forum-2017-presentations-and-handouts/\n",
      "//www.mstrust.org.uk/about-ms/ms-treatments/ms-decisions-aid\n",
      "//www.gene.com/media/press-releases/14773/2019-01-16/fda-accepts-genentechs-supplemental-biol\n",
      "+ive\n",
      "-dr.\n",
      "//multiple-sclerosis-research.blogspot.com/2014/05/clinic-speak-swi\n",
      "'not\n",
      "//www.cghjournal.org/article/s1542-3565\n",
      "'05\n",
      "'15\n",
      "'10\n",
      "-luxury\n",
      "-sheerling\n",
      "-cotton\n",
      "-hot\n",
      "-alexa\n",
      "-try\n",
      "-shower\n",
      "-cooling\n",
      "-squatty\n",
      ".00001\n",
      ".0001\n",
      ":1237-42.\n",
      ":1235-9.\n",
      "'in\n",
      "'anxiety\n",
      "~without\n",
      "..yet\n",
      "..i\n",
      "..then\n",
      "//www.medpagetoday.com/meetingc\n",
      "*usually*\n",
      "'04\n",
      "'17\n",
      "*weaning*\n",
      "-positive\n",
      "//www.novartis.com/news/media-releases/novartis-announces-positive\n",
      "//www.multipleexperiences.org\n",
      "//multiple-sclerosis-research.blogspot.com/2016/01/suppose-there-wa\n",
      "//www.mstrust.org.uk/a-z/swallowing\n",
      "//shift.ms/\n",
      "🙏🏾🐻💪🏼\n",
      "//multiple-sclerosis-research.blogspot.com/2016/06/cladribine4ms-effective-disease.html\n",
      ":172-183.\n",
      ":1117-1126.\n",
      ":1098-1100.\n",
      "‎primary\n",
      "-activating\n",
      "————————-\n",
      "//cancergrace.org/topic/treatment-options-2\n",
      "//www.cancer.gov/about-cancer/treatment/cam/patient/vitamin-c-pdq\n",
      "—also\n",
      "//nccih.nih.gov\n",
      "//www.fda.gov\n",
      "//www.healio.com/hematology-oncol\n",
      "/cnw/\n",
      "-dale\n",
      "//www.cancerresearchuk.org/health-professional/cancer-statistics/statistics-by-cancer-type/non-hodgkin-lymphoma\n",
      "*does*\n",
      "'early\n",
      ".but\n",
      "👍👍👍\n",
      ".oh\n",
      "'the\n",
      "-specific\n",
      "'black\n",
      "-accumulation-presence\n",
      "*skips\n",
      "≥120\n",
      "≥20\n",
      "//multiple-sclerosis-research.blogspot.com/2017/03/newsspeak-eagle-\n",
      ".6cm\n",
      "..many\n",
      "—then\n",
      "//multiplesclerosisnewstoday.c\n",
      "//cancergrace.org/topic/ned-for-21-months-stop-gilotrif-2-questions-to-dr-west\n",
      "//www.mstrust.org.uk/understanding-ms/ms-symptoms-and-treatments/ms-decisions\n",
      "//www.ncbi.nlm.nih.gov/pubmed/30677733\n",
      ".would\n",
      "/genetic\n",
      "­heidelberg\n",
      "//www.karger.com/article/fulltext/492322\n",
      "–85\n",
      "–79\n",
      "–95\n",
      "–72\n",
      "//multiple-sclerosis-research.blogspot.com/2015/10/clinicspeak-headline-ocrelizumab-results.html\n",
      ".375\n",
      "-4.\n",
      "±5.3\n",
      "≥three\n",
      "=0.60\n",
      "≥50\n",
      "≥15\n",
      "≤0.22\n",
      "≤0.03\n",
      "//multiple-sclerosis-research.blogspot.com/2015/09/clinicspeak-is-r\n",
      "≥12\n",
      "≥40\n",
      "≥60\n",
      "≥30\n",
      "/dose\n",
      "~15\n",
      "–blockers\n",
      "≤20\n",
      "//www.joslin.org/news/lucentis-proves-effective-against-proliferative-diabetic-retinopathy.html\n",
      "//community.mssociety.org.uk/forums/primary-progressive-ms/calling\n",
      "'episode\n",
      ":1056-1065.\n",
      "//www.fda.gov/newsevents/newsroom/pressannouncements/ucm466413.htm\n",
      ".00825\n",
      ".001\n",
      "–62\n",
      "–73\n",
      "–82\n",
      "–71\n",
      "–20\n",
      "–16\n",
      "–86\n",
      "–22\n",
      "–10\n",
      "–99\n",
      ".0008\n",
      ".07\n",
      ".004\n",
      ".0005\n",
      ".0002\n",
      "-mutant\n",
      ":2055217318778610.\n",
      ":2055217318777894.\n",
      ":sigh\n",
      "..it\n",
      "'unmanaged\n",
      "//www.astrazeneca.com/media-centre/press-releases/2018/us-fda-approve\n",
      "//www.cancer.gov/research/nci-role/cancer-centers/find\n",
      "//www.siteman.wustl.edu\n",
      "–45\n",
      "–30\n",
      "–55\n",
      "–90\n",
      "–25\n",
      "//www.mstrust.org.uk/news/news-about-ms/ocrelizumab-ocrevus-gets-european-licence-relapsing-and-primary-progressive-ms\n",
      "//www.flickr.com/photos/argonne/3974983988\n",
      "*the\n",
      "———\n",
      "//cancergrace.org/lung/tag/zykadia/\n",
      "//www.highbeam.com/doc/1g1-470081283.html\n",
      "//cancergrace.org/topic/chronic-cough-and-difference-of-opinion\n",
      "£50\n",
      "//onlinelibrary.ectrims-congress.eu/ectrims/2016/32nd/146337/nicola.de.stefano.cladribine.effect.on.brain.volume.loss.and.its.correlation.html\n",
      "//youtu.be/yk7_jpk33i4\n",
      "//multiple-sclerosis-research.blogspot.com/2016/06/cladribine4ms-ef\n",
      "//www.businesswire.com/news/hom\n",
      "-8.6\n",
      "-2.6\n",
      "//multiple-sclerosis-research.blogspot.com/2015/10/suppose-there-is-therapy-for-ms-that-is.html\n",
      ".05\n",
      "–24\n",
      "//www.medianet.com.au/releases/127433/\n",
      "//doi.org/10.1186/s12883-017-0794-5\n",
      "+t790m\n",
      ".vs\n",
      "//mymsaa.org/news-msaa/1380-fda-expedites-review-ocrelizumab\n",
      "=0.3\n",
      "…..\n",
      "..novartis\n",
      "'everyone\n",
      "-ers\n",
      "//www.lungcancerfoundation.org/patients/ros1/\n",
      "//www.lungcancerfoundation.org/patients/ros1/survey/\n",
      "//www.curetoday.com/community/tori-tomalia/2016/07/listen-for-zebras-a-ros1-story\n",
      "/per\n",
      "-1a\n",
      "-1b\n",
      "//www.novartis.com\n",
      "//twitter.com/novartis\n",
      "+41\n",
      "//www.frontiersin.org/articles/10.3389/fimmu.2013.00438/full\n",
      "'chesty\n",
      "-0.4\n",
      ".got\n",
      ".just\n",
      "–julie\n",
      "//www.curetoday.com/articles/immunotherapies-show-promi\n",
      "//www.cancer.org/cancer/lungcancer-smallcell/detailedgu\n",
      "//www.ncbi.nlm.nih.gov/pubmed/27206905\n",
      "=50\n",
      ".endpoints\n",
      "//smithonstocks.com/northwest-biotherapeutics-dcvax-l-viewed-through-the-eyes-of-dr-linda-liau-lead-investigator-on-the-phase-3-trial-of-dcvax-l-nwbo-0-35-buy/\n",
      "//journals.sagepub.com/doi/abs/\n",
      "//www.medicaltourisrael.com/wp\n",
      "//www.healthline.com/health-news/ms-why-are-ms-drug-prices-so-high-071913\n",
      "'zombie\n",
      ":699-710\n",
      ":711-21\n",
      ":185-90\n",
      "*this\n",
      "//multiple-sclerosis-research.blogspot.com/2016/01/suppose-there-was-therapy-for-all.html\n",
      "+ve\n",
      ":8.\n",
      "..sorbelenerecommended\n",
      "'woohoo\n",
      "'failed\n",
      "//www.medscape.com/viewarticle/906837\n",
      "//www.medscape.com/viewar\n",
      "©2009-2018\n",
      "//www.nature.com/ismej/journal/v1/n5/abs/ismej200752a.html\n",
      "//www.fascrs.org/patients/disease-condition/crohns-disease-0\n",
      "//www.nhs.uk/conditions/crohns-disease/pages/causes.aspx\n",
      "//www.cdc.gov/ibd/ibd-epidemiology.htm\n",
      "//www.ncbi.nlm.nih.gov/pmc/articles/pmc4087458/\n",
      "//gi.org/guideline/management-of-crohns-disease-in-adults/\n",
      "//my.clevelandclinic.org/health/articles/crohns-disease\n",
      "//www.medicalnewstoday.com/articles/151620.php\n",
      "'reprogramming\n",
      "'eat\n",
      "'super\n",
      ".ehealthme\n",
      "//www.ehealthme.com/ds/tysabri/pro\n",
      "//ccsviinms.blogspot.com\n",
      "/skin\n",
      "..also\n",
      "..2ndand3rd\n",
      "..eye\n",
      "..and\n",
      "..each\n",
      ".which\n",
      ".as\n",
      "..this\n",
      "..since\n",
      "..just\n",
      ".gpsaid\n",
      "..one\n",
      ".this\n",
      ".ive\n",
      ".hopefully\n",
      "//www.fda.gov/medwatch\n",
      "//multiplesclerosisnewstoday.com/2018/08/21/high-ms-activity-seen-patient-after-consecutive-use-immunotherapies-case-report/\n",
      "//www.ncbi.nlm.nih.gov/pubmed/30114625\n",
      "//cancergrace.org/lung/topic/low-albumin-levels/\n",
      "//multiple-sclerosis-research.b\n",
      "//www.youtube.com/watch\n",
      "'normal\n",
      "'good\n",
      ".has\n",
      ".are\n",
      "*triples*\n",
      "*in\n",
      "-pml\n",
      "//www.ncbi.nlm.nih.gov/pubmed/23925759\n",
      "/quote\n",
      ".what\n",
      "'outside\n",
      "//fis.fda.gov/hub/stream/aaec8d41-5201-43ab-809f-3063750dfafd\n",
      "//www.medicines.org.uk/emc/ima\n",
      "~2~143576b.png\n",
      "//www.sciencedirect.com/scienc\n",
      "//journals.lww.com/oncology-times/fulltext/2015/04100/warning_about_chemotherapy_afatinib_combination.3.aspx\n",
      ":388-397\n",
      "//www.ncbi.nlm.nih.gov/pubmed/18574932\n",
      "//doi.org/10.1371/journal.pone.0190425\n",
      "-hain\n",
      "*any\n",
      ".jpg\n",
      "'report\n",
      "'knock\n",
      "'hot\n",
      "'that\n",
      "//www.ncbi.nlm.nih.gov/pubmed/23868420\n",
      "//www.ncbi.nlm.nih.gov/pubmed/23913509\n",
      ".not\n",
      "..barts\n",
      ".is\n",
      "-anticd20s\n",
      "-ve\n",
      "//www.rituxan.com/hem/hcp\n",
      "*scroll\n",
      "~diagnosed\n",
      "-vit\n",
      "**step\n",
      "*permanently*\n",
      "-infusions\n",
      "-subsequent\n",
      "-the\n",
      "-if\n",
      "-he\n",
      "————————————————————————–\n",
      "//www.inspire.com/fighterm/journal/pd1-pd-l1-is-the-superstar-checkpo\n",
      ".after\n",
      "//neuroimmunology.wordpress.com/2011/11/03/rituximab-vs-ocrelizumab-in-multiple-sclerosis/\n",
      "'whacked\n",
      "'ride\n",
      "'cause\n",
      "//multiple-sclerosis-research.blogspot.com/2014/10/offlabel-cladrib\n",
      "-every\n",
      "..her\n",
      ".357\n",
      "£600\n",
      "-small-cell\n",
      "//www.medpagetoday.com/clinical-context/rheumatoidarthritis/26391\n",
      "'conventional\n",
      "//www.ehealthme.com/ds/gilenya/pancreatitis/\n",
      "//multiple-sclerosis-research.blogspot.com/\n",
      "'increased\n",
      "-my\n",
      "-her\n",
      "-she\n",
      ".the\n",
      "*really*\n",
      ".50\n",
      "'multum\n",
      "~local\n",
      "​​​​​​\n",
      "'rare\n",
      ".06\n",
      "//multiplesclerosisnewstoday.com/2018/08/23/switching-from-gilenya-to-rituximab-for-ms-may-be-problem-case-study/\n",
      "£1800\n",
      "/keytruda\n",
      ".02\n",
      "-on\n",
      "//www.cbsnews.com/video/new-drug-provides-hope-for-those-suffering-with-ms/\n",
      "//www.multipleexperiences.org/2017/06/28/ocrelizumab-ocrevus-versus-rituximab-rituxan/\n",
      "//cancergrace.org/forums/index.php\n",
      "'fessed\n",
      "'felt\n",
      "'hold\n",
      ".works\n",
      "//tamingmultiplesclerosis.com/multiplesclerosis-seasonchangesarticle.html\n",
      "//multiplesclerosisnewstoday.com/2018/04/16/ocrevus-survey-side-effects-influence-patients-view-of-its-effectiveness/\n",
      "//tinyurl.com/genefoocrevus\n",
      "'dangerous\n",
      ".and\n",
      "'relapse\n",
      "-3922\n",
      "//www.healthnewsreview.org/2017/04/fake-breakthrough-fake-news-one-physician-researchers-takeaway-news-coverage-ms-drug-ocrevus/\n",
      "//www.ehealthme.com/ds/tysabri/death\n",
      "//chefarztfrau.de/\n",
      "//www.medpagetoday.com/clinical-co\n",
      "//www.ncbi.nlm.nih.gov/pubmed/23100404\n",
      "//ms.about.com/od/treatments/a/the\n",
      "//www.ncbi.nlm.nih.gov/pubmed/23338729\n",
      "//www.ncbi.nlm.nih.gov/pubmed/23252596\n",
      "-blocker\n",
      "'no\n",
      "//www.mssociety.org.uk/ms-news/2018/04/nice-says-initial-no-ocrelizumab-relapsing-ms\n",
      "-wifi\n",
      "/www.researchgate.net/publication/318146352_the_risk_of_cancer_in_inflammatory_bowel_disease_does_infliximab_contribute_to_cancer_risk\n",
      "—social\n",
      "€3500\n",
      ".sorry\n",
      "…or\n",
      "//www.ncbi.nlm.nih.gov/pmc/articles/pmc5869778/\n",
      "'just\n",
      ".reread\n",
      "-in-law\n",
      "..after\n",
      "//www.nytimes.com/2005/03/01/busin\n",
      "-but\n",
      "//www.iom.edu/~/media/march\n",
      "//www.mstrust.org.uk/a-z/exercise\n",
      "-mutation–positive\n",
      "£300\n",
      "//multiple-sclerosis-research.org\n",
      "-rebounds/\n",
      "//cancergrace.org/lung/tag/immunotherapy-combinations/\n",
      "//cancergrace.org/hnscc/2016/08/02/asco-2016-treating-head-and-neck-cancer-using-immunotherapy-as-first-line-treatment-and-in-combinations/\n",
      "//cancergrace.org/lung/2015/12/08/gcvl_lu_immunotherapy_combinations_future_treating_lung_cancer/\n",
      "-ocular\n",
      "/problems\n",
      "£70,000\n",
      "£35,000,000\n",
      ".so\n",
      ".considering\n",
      "//eur-lex.europa.eu/legal-content/en/auto/\n",
      "£84m\n",
      ".02.\n",
      "//insights.ovid.com/crossref\n",
      "~800\n",
      "//cancergrace.org/topic/some-questions-lung-cancer\n",
      "'is\n",
      "//www.trademarkia.com/ocrevus-86205182.html\n",
      "/pneumonitis\n",
      "//cancergrace.org/search-results\n",
      "//cancergrace.org/lung/2017/01/12/imprecision-medicine-why-keytruda-pembrolizumab-chemo-for-pd-l1-nsclc-isnt-ready-for-prime-time/\n",
      "-while\n",
      "=.0025\n",
      "//inflammatoryboweldisease.net/treatment/medications/\n",
      "'mary\n",
      "-47\n",
      "//selfhacked.com/blog/diet-nut\n",
      "'eye\n",
      "//www.ema.europa.eu/docs/en_gb/document_library/epar_-_product_information/human/002202/wc500104528.pdf\n",
      "//facebook.com/groups/653313891487070\n",
      "//clinicaltrials.gov/ct2/show/nct01227954\n",
      "//www.rtog.org/news/tabid/72/articletype/articleview/articleid/73/avoidance-of-the-hippocampus-is-shown-to-preserve-memory.aspx\n",
      "//www.imsmp.org/content/ocrelizumab-fda-approved-treatment-ms\n",
      "…our\n",
      "…and\n",
      ".now\n",
      "..not\n",
      "//app.jamanetwork.com/\n",
      "//www.nice.org.uk/guidance/gid-ta10153/documents/appraisal-consult\n",
      "±sd\n",
      "±6.3\n",
      "±0.1\n",
      "±0.6\n",
      "±0.2\n",
      "±9.9\n",
      "±8.6\n",
      "-80\n",
      "//www.cnn.com/2018/03/02/health/ms-drug-daclizumab-pulled-bn/index.html\n",
      "//multiple-sclerosis-research.blogspot.com/2017/12/pml-warning-on-cladribine-by-mhra-has.html\n",
      "//doi.org/\n",
      "//cancergrace.org/cancer-101/2013/01/06/clin-trials-ramalingam-pt-1/\n",
      "//cancergrace.org/cancer-101/2013/01/18/how-are-clin-trials-developed/\n",
      "//cancergrace.org/cancer-101/2013/01/27/ramalingam-clin-trials-pt-3/\n",
      "//www.aao.org/eye-health/diseases/avastin-eylea-lucentis-difference\n",
      "'treatment\n",
      "//fis.fda.gov/sense/app/777e9f4d-0cf8-448e-8068-f564c31baa25/sheet/45beeb74-30ab-46be-8267-5756582633b4/state/analysis\n",
      "//www.ocrevus.com/patient/safety.html\n",
      "//www.pharma.us.novartis.com/news/media-releases/novartis-announces-fda-filing-acceptance-siponimod-baf312-first-and-only-oral\n",
      "//www.gofundme.com/6c89ruo\n",
      "£100,000\n",
      "£60,000\n",
      "☺…there\n",
      "'01\n",
      "'02\n",
      "//www.mymsaa.org/about-ms/sources/\n",
      "//www.fema.gov/regional-operations/state-offices-and-agencies-emergency-management\n",
      "*article\n",
      "//www.umcor.org/umcor/resources/news-stories/2012/october/how-to-help-do-this-not-that\n",
      "//www.ic3.gov/media/2011/110311.aspx\n",
      "//www.state.nj.us/njoem/\n",
      "//disastercenter.com/newjersy/newjersy.htm\n",
      "//www.dhses.ny.gov/oem/\n",
      "//disastercenter.com/newyork/newyork.htm\n",
      "//www.nyredcross.org/\n",
      "//www.foodbanknyc.org/\n",
      "/urination\n",
      "//multiple-sclerosis-research.blogspot.com/2016/04/researchspeak-rituxumab-vs-fingolimod.html\n",
      ".multiple\n",
      "//www.thestreet.com/story/14006548/1/celgene-multiple-sclerosis-pill-succeeds-in-first-late-stage-clinical-trial.html\n",
      "//multiple-sclerosis-research.blogspot.com/2017/06/hsct-in-progressive-ms.html\n",
      ".014\n",
      ".003\n",
      ".05-.001\n",
      ".622\n",
      ".015\n",
      ".09\n",
      ".12\n",
      "//msddjournal.biomedcentral.co\n",
      ":2122-2133.\n",
      ":20-29.\n",
      ":585-602.\n",
      ":141-147.\n",
      ":591-600.\n",
      ":572-573.\n",
      ":4-16.\n",
      ":204-216\n",
      "//www.ema.europa.eu/ema/index.jsp\n",
      "~10lbs\n",
      ".5mg\n",
      "≥2.54\n",
      "//www.ncbi.nlm.nih.gov/pubmed/12528101\n",
      "//www.ncbi.nlm.nih.gov/pubmed/7779114\n",
      "//www.ncbi.nlm.nih.gov/pubmed/8507213\n",
      "//www.ncbi.nlm.nih.gov/pubmed/9751088\n",
      "//www.ncbi.nlm.nih.gov/pubmed/8633113\n",
      "//www.ncbi.nlm.nih.gov/pubmed/12379628\n",
      "//www.pubmedcentral.nih.gov/picrender.fcgi\n",
      "//www.ncbi.nlm.nih.gov/pubmed/15146409\n",
      "//www.ncbi.nlm.nih.gov/pubmed/16200601\n",
      "//www.ncbi.nlm.nih.gov/pubmed/16802350\n",
      "//www.fda.gov/drugs/drugsafety/postmarketdrugsafetyinformationforpatientsandproviders/drugsafetyinformationforheathcareprofessionals/ucm174474.htm\n",
      "//www.fda.gov/drugs/drugsafety/postmarketdrugsafetyinformationforpatientsandproviders/ucm124185.htm\n",
      "//www.ncbi.nlm.nih.gov/pubmed/18716298\n",
      "//www.ncbi.nlm.nih.gov/pubmed/9321530\n",
      "//www.fda.gov/downloads/drugs/drugsafety/postmarketdrugsafetyinformationforpatientsandproviders/ucm224377.pdf\n",
      "//www.fda.gov/drugs/drugsafety/ucm270849.htm\n",
      "//www.fda.gov/drugs/drugsafety/ucm250913.htm\n",
      "//www.ncbi.nlm.nih.gov/pubmed/21083543\n",
      "//www.ncbi.nlm.nih.gov/pubmed/21209123\n",
      "//www.ncbi.nlm.nih.gov/pubmed/22062358\n",
      "//www.ncbi.nlm.nih.gov/pubmed/23665965\n",
      ".066\n",
      ".011\n",
      "-mutated\n",
      "+/-\n",
      "//cancergrace.org/lung/tag/oligoprogression/\n",
      "++â\n",
      "'wet\n",
      "-neutralizing\n",
      "//www.diabeticretinopathy.org.uk/lucentispatientsdr.htm\n",
      "'out\n",
      "~jennifer\n",
      "//www.ucsf.edu/news/2017/03/406296/new-multiple-sclerosis-drug-ocrelizumab-could-halt-disease\n",
      "//www.davidscampathstory.org/index.html\n",
      "//www.justgiving.com/fundraising/mark-seacombe1\n",
      "//tedxchelmsford.com/works/ellen-marshall/\n",
      "//www.express.co.uk/news/uk/610907/multiple-sclerosis-drug-ocrelizumab-treatment-britain-gavin-giovannoni-nick-rijke\n",
      "/0.005\n",
      "//www.businesswire.com/news/home/20190117005165/en/\n",
      "//www.businesswire.com/news/home/20190117005165/en\n",
      "-in\n",
      "-when\n",
      "-ointment\n",
      "-steroid\n",
      "-following\n",
      "-patients\n",
      "'steroid\n",
      ".methodsfifteen\n",
      "//aircharitynetwork.org/request-a-flight/\n",
      "//lifelinepilots.org/\n",
      "//www.corpangelnetwork.org/\n",
      "//mercymedical.org/\n",
      "//www.lazarex.org/\n",
      "//embenkickscancer.wordpress.com/\n",
      "//wp.vcu.edu/hemeoncfellowship/wp-content/uploads/sites/3982/2017/08/keynote-021-carbo-pemetrexed-pembrolizumab-in-advanced-non-squamous-nsclc-2016-lancet.pdf\n",
      "-189\n",
      "-227\n",
      "-line\n",
      "=0.29\n",
      "=0.11\n",
      "=0.22\n",
      "=0.2\n",
      "//ow.ly/kcbt306wdbn\n",
      "-glucose\n",
      "-positron\n",
      "=0.01\n",
      ".0003\n",
      ".0020\n",
      ".0018\n",
      "//www.inspire.com/groups/american-lung-association-lung-cancer-survivors/discussion/duravalumab-imfinzi-patients-support-group/\n",
      "//www.cancer.ca/en/cancer-information/cancer-type/lung/treatment/chemotherapy/\n",
      ":228-33\n",
      "*outside*\n",
      "–70.9\n",
      "–50.8\n",
      ".092\n",
      "//clinicaltrials.gov/ct2/show/nct02349633\n",
      ".002\n",
      ".537\n",
      ".6.\n",
      "—antibodies\n",
      "-approved\n",
      "-γ-induced\n",
      ".023\n",
      "…thayr-uh-pee\n",
      "..an-tih-jen\n",
      "…lih-nee-er\n",
      "…glee-oh-muh\n",
      "//www.cancer.gov/types/soft-tissue-sarcoma/patient/rhabdomyosarcoma-treatment-pdq\n",
      "~1/2\n",
      "~50\n",
      "~10\n",
      "~80\n",
      ":459-465.\n",
      ":976-983.\n",
      "//nccn.org\n",
      "//clinicaltrials.gov/ct2/show/nct02659059\n",
      "//clincancerres.aacrjournals.org/content/20/9/2424.full\n",
      "-scohn\n",
      "//link.springer.com/10.1007/s12325-018-0848-0\n",
      "//newsroom.regeneron.com\n",
      "//twitter.com/regeneron\n",
      "-dk\n",
      "-driven\n",
      "-y393\n",
      "=.001\n",
      "//adventuresinlivingterminallyopti\n",
      "…has\n",
      "born\n",
      "patient\n",
      "-health\n",
      "health\n",
      "//www.cancer.gov/news-events/cancer-currents-blog/2017/genomic-profiling-tests-cancer\n",
      "//www.cancer.gov/news-events/cancer-currents-blog/2019/early-stage-lung-cancer-biomarker\n",
      "–nccn\n",
      "//www.kaltura.com/index.php/extwidget/preview/partner_id/2207941/uiconf_id/40195191/entry_id/1_7m16l2ov/embed/iframe\n",
      "..lol\n",
      "'limited\n",
      "//ros1cancer.com\n",
      "//www.clinicaltrials.gov/ct2/show/nct02034981\n",
      "~4000\n",
      "~2400\n",
      "~2900\n",
      "~4500\n",
      "~700\n",
      "~1200\n",
      "*much\n",
      "//www.mskcc.org/experience/become-patient/appointment\n",
      "//multiple-sclerosis-research.blogspot.com/2017/08/teamg-helps-develop-licenced-drug.html\n",
      "//www.medicines.org.uk/emc/product/1438/smpc\n",
      "******************************\n",
      "//www.mstrust.org.uk/a-z/mavenclad-cladribine\n",
      ":1956-1957\n",
      ":459-469\n",
      ":288-94\n",
      ":2230-2237\n",
      "-32.5\n",
      "-26.1\n",
      "-7.5\n",
      ".01\n",
      "-mutation\n",
      "'socialized\n",
      "//journals.lww.com/co-gastroenterology/fulltext/2018/11000/checkpoint_inhi\n",
      ".for\n",
      "—use\n",
      "//onlinelibrary.wiley.com/doi/pdf/10.1111/apt.13847\n",
      "-40\n",
      "-30\n",
      "//www.ncbi.nlm.nih.gov/pmc/articles/pmc4872064/\n",
      "-hopefully\n",
      "//clinicaltrials.gov/show/nct02888743\n",
      "≤8.0\n",
      ".0095\n",
      "=.007\n",
      "=.02\n",
      ".when\n",
      "-paclitaxel\n",
      ".056\n",
      "//www.technologynetworks.com/cancer-research/news/unstable-chromosomes-increase-risk-of-cancer-returning-288099\n",
      "=.005\n",
      "//cancergrace.org/topic/medi4736/page/3/\n",
      "/url\n",
      "….we\n",
      "….immunotherapy\n",
      "/carboplatin\n",
      ".25\n",
      "-moonface\n",
      "-weight\n",
      "-swelling\n",
      "-bad\n",
      "-brain\n",
      "-dizziness\n",
      "-increased\n",
      "-irritability\n",
      "*******************no\n",
      "//www.ncbi.nlm.nih.gov/pubmed/30644981\n",
      "//amzn.to/2hgi0rt\n",
      "//www.ema.europa.eu/medicines/human/epar/avastin\n",
      "//www.ema.europa.eu/medicines/human/epar/keytruda\n",
      "-you\n",
      "***will\n",
      "***\n",
      "-injection\n",
      "-this\n",
      "-mtx\n",
      "//www.ncbi.nlm.nih.gov/pubmed/30536638\n",
      "≥24\n",
      "≥65\n",
      "//www.ncbi.nlm.nih.gov/pubmed/24842416\n",
      "//www.ncbi.nlm.nih.gov/pubmed/24799843\n",
      "//www.ncbi.nlm.nih.gov/pubmed/15958805\n",
      "//www.ncbi.nlm.nih.gov/pubmed/23964932\n",
      "//www.ncbi.nlm.nih.gov/pubmed/24899819\n",
      "//www.ncbi.nlm.nih.gov/pubmed/23723689\n",
      "//www.ncbi.nlm.nih.gov/pubmed/23046232\n",
      "//www.ncbi.nlm.nih.gov/pubmed/25211302\n",
      "//www.ncbi.nlm.nih.gov/pubmed/21180594\n",
      "//www.ncbi.nlm.nih.gov/pubmed/23964933\n",
      ":1-24\n",
      "//www.ncbi.nlm.nih.gov/pubmed/24859203\n",
      "//www.ncbi.nlm.nih.gov/pubmed/25309060\n",
      "//www.ncbi.nlm.nih.gov/pubmed/19509315\n",
      "//www.ncbi.nlm.nih.gov/pubmed/23591599\n",
      "//www.ncbi.nlm.nih.gov/pubmed/22147460\n",
      "//www.ncbi.nlm.nih.gov/pubmed/18829392\n",
      "//www.ncbi.nlm.nih.gov/pubmed/24763133\n",
      "//www.accessdata.fda.gov/drugsatfda_docs/nda/2014/125476orig1s000sumr.pdf\n",
      "-antagonist\n",
      "≤1.2\n",
      "≥5x\n",
      "~20\n",
      "≤18\n",
      "≤25\n",
      "~25\n",
      "≥99\n",
      "—brodalumab\n",
      "-hematology\n",
      "-to\n",
      "'backs\n",
      "'thicken\n",
      "'cross-sectional\n",
      "'pinched\n",
      "'hardening\n",
      "'sludge\n",
      "'clears\n",
      "'proved\n",
      "'squashing\n",
      "±0.60\n",
      "±0.52\n",
      "±0.47\n",
      "±0.29\n",
      "≤0.30\n",
      "≥20/40\n",
      "+5.5\n",
      "+4.5\n",
      "+6.6\n",
      "+4.7\n",
      "+6.3\n",
      "+2.9\n",
      "+5.2\n",
      "+28\n",
      "+10.2\n",
      "+2.8\n",
      "-2.5\n",
      "+36\n",
      "+7.8\n",
      "+30.5\n",
      "+7.9\n",
      "+1.6\n",
      "-2.7\n",
      "-1.49\n",
      "/timolol\n",
      "±6.2\n",
      "≤21\n",
      "±2.9\n",
      "±3.7\n",
      "±2.3\n",
      "±2.4\n",
      "±1.7\n",
      "±2.8\n",
      "±1.9\n",
      "±1.6\n",
      "±22.4\n",
      "±14.1\n",
      "±9.2\n",
      "±0.8\n",
      "±0.9\n",
      "±0.5\n",
      "±1.1\n",
      "±15\n",
      "±30\n",
      "***is\n",
      "***what\n",
      "-afatinib\n",
      "-helix\n",
      "–mutation\n",
      "//www.inspire.com/m/daxys/\n",
      "'blood\n",
      "‐term\n",
      ":2779-89\n",
      ".0015\n",
      ".0104\n",
      ".007\n",
      ".0077\n",
      "/prnewswire/\n",
      ":659-64\n",
      ":919-27\n",
      "//www.pmlive.com/pharma_news/pfizer_files_third-gen_alk_inhibitor_for_lung_cancer_1221723\n",
      "//www.cancertherapyadvisor.com/lung-cancer/non-small-cell-lung-cancer-crizotinib-alk-brain-metastases/article/400453/\n",
      "–83\n",
      "..you\n",
      ".today\n",
      "—abby\n",
      "*is\n",
      "*what\n",
      ".008\n",
      "….could\n",
      "….but\n",
      "*****limod\n",
      "*notes\n",
      "//www.sciencedirect.com/topics/neuroscience/cytokines\n",
      "//www.sciencedirect.com/topics/neuroscience/interleukin\n",
      "//www.sciencedirect.com/topics/immunology-and-microbiology/tumor-necrosis-factor-alpha\n",
      "//www.bio-rad-antibodies.com/immunoglobulin-antibody.html\n",
      "//www.crohnscolitisfoundation.org/resources/immunomodulators.html\n",
      "//s3-eu-west-1.amazonaws.com/files.crohnsandcolitis.org.uk/publications/azathioprine_ed_4b_-_feb_2018.pdf\n",
      "//www.ncbi.nlm.nih.gov/pmc/articles/pmc2933759/\n",
      "//www.ncbi.nlm.nih.gov/pmc/articles/pmc4133437/\n",
      "//www.ncbi.nlm.nih.gov/pubmed/2287944\n",
      "//www.uptodate.com/contents/pharmacology-of-cyclosporine-and-tacrolimus\n",
      "//www.cancer.org/treatment/treatments-and-side-effects/treatment-types/immunotherapy/monoclonal-antibodies.html\n",
      "//www.uptodate.com/contents/tumor-necrosis-factor-alpha-inhibitors-induction-of-antibodies-autoantibodies-and-autoimmune-diseases\n",
      "//www.remicade.com/crohns-disease/how-does-remicade-work\n",
      "//www.merck.com/product/usa/pi_circulars/r/renflexis/renflexis_pi.pdf\n",
      "//labeling.pfizer.com/showlabeling.aspx\n",
      "//www.humira.com/crohns/how-humira-works-for-crohns\n",
      "//www.cimzia.com/living-with-cd\n",
      "//www.simponi.com/\n",
      "//www.tysabrihcp.com/en_us/home/about/mechanism-of-action.html\n",
      "//www.accessdata.fda.gov/drugsatfda_docs/label/2012/125104s0576lbl.pdf\n",
      "//www.entyviohcp.com/mechanism-of-action\n",
      "//www.stelarahcp.com/crohns-disease/mechanism-of-action\n",
      "*shrug*\n",
      "-rich\n",
      "/ad3\n",
      "/extracellular\n",
      "-dependent\n",
      "-stimulated\n",
      "/cd14/md2\n",
      "/extraskeletal\n",
      "//www.cancer.gov/types/soft-tissue-sarcoma/patient/child-soft-tissue-treatment-pdq\n",
      "—reduced\n",
      "—is\n",
      "—two\n",
      "/ipi\n",
      "-bill\n",
      "//ascopubs.org/doi/abs/10.1200/jco.2018.36.15_suppl.3091\n",
      "//www.canceractive.com/article/melanoma-and-skin-cancer-symptoms-t\n",
      "≥10\n",
      "—based\n",
      "—they\n",
      "►what\n",
      "​nivolumab\n",
      "-caused\n",
      "nanopore\n",
      "/tumors\n",
      "-43\n",
      "//investor.alimerasciences.com/index.php/news-releases/news-release-details/alimera-sciences-receives-acceptance-filing-obtain-approval\n",
      "//eyepointpharma.com/pipeline/\n",
      ":1940-1948\n",
      "//cancergrace.org/lung/2015-acquired-resistance-in-lung-cancer-patient-forum-videos/\n",
      ".005\n",
      ".0025\n",
      "≥500\n",
      ":grin\n",
      "–2004\n",
      "-and\n",
      "//www2.gov.bc.ca/assets/gov/health/health-drug-coverage/pharmacare/newsletters/news18-011.pdf\n",
      "//www.merck.ca/static/pdf/renflexis-pm_e.pdf\n",
      "//www.crohnsandcolitis.ca/crohns_and_colitis/documents/reports/ccfc-ibd-impact-report-2012.pdf\n",
      "//www.nature.com/articles/ajg201797.pdf\n",
      "//crohnsandcolitis.ca/about-crohn-s-colitis/are-you-at-risk\n",
      "//www.arthritis.ca/about-arthritis/arthritis-types-\n",
      "/types/inflammatory-arthritis\n",
      "/types/rheumatoid-arthritis\n",
      "-rearranged\n",
      "-associated\n",
      "£400m\n",
      "£300m\n",
      "'originator\n",
      "£500m\n",
      "£200-300m\n",
      "'best\n",
      "//www.cancer.gov/types/lung/patient/non-small-cell-lung-treatment-pdq\n",
      "-0.45\n",
      "-2.3\n",
      "-330\n",
      "-527\n",
      "//www.thediabetescouncil.com/ultimate-guide-to-the-a1c-test-everything-you-need-to-know/\n",
      "//www.aao.org/eye-health/treatments/what-is-optical-coherence-tomography\n",
      ":4-14.\n",
      "//www.diabeticretinopathy.org.uk/retinopathyprogression.htm\n",
      "//www.diabeticretinopathy.org.uk/diabetic_retinopathy_mech.html\n",
      "+0.2\n",
      "+4.2\n",
      "'age-related\n",
      "©eye\n",
      "'clean\n",
      "£550\n",
      "£800\n",
      "£100\n",
      ",031\n",
      "£129\n",
      "£383\n",
      "£447\n",
      "£102\n",
      "//www.lungcancerfoundation.org/patients/ros1/trials-and-treatments/\n",
      "-omics\n",
      "//www.ejog.org/article/s0301-2115\n",
      ":1017.\n",
      ":493.\n",
      "≥90\n",
      "+45\n",
      "'flame\n",
      "'homing\n",
      "'look\n",
      "≤130\n",
      "'complications\n",
      ":175–187\n",
      "//chem.sis.nlm.nih.gov/chemidplus/chemidheavy.jsp\n",
      ":791-809.\n",
      ":251-9.\n",
      ":245-51.\n",
      ":2652-61.\n",
      "//forums.lungevity.org/forum/31-discussion-forums/\n",
      "£293,000\n",
      ":690-696.\n",
      "905\n"
     ]
    }
   ],
   "source": [
    "count=0\n",
    "for token,index in word_index_map.items():\n",
    "    if (re.match(r'[^\\w]',token)):\n",
    "        print(token)\n",
    "        count +=1\n",
    "\n",
    "print(count)"
   ]
  },
  {
   "cell_type": "code",
   "execution_count": 110,
   "metadata": {},
   "outputs": [
    {
     "name": "stdout",
     "output_type": "stream",
     "text": [
      "[nltk_data] Downloading package averaged_perceptron_tagger to\n",
      "[nltk_data]     /home/ravishankarbhati/nltk_data...\n",
      "[nltk_data]   Unzipping taggers/averaged_perceptron_tagger.zip.\n"
     ]
    },
    {
     "data": {
      "text/plain": [
       "True"
      ]
     },
     "execution_count": 110,
     "metadata": {},
     "output_type": "execute_result"
    }
   ],
   "source": [
    "nltk.download('averaged_perceptron_tagger')"
   ]
  },
  {
   "cell_type": "code",
   "execution_count": 117,
   "metadata": {},
   "outputs": [
    {
     "data": {
      "text/plain": [
       "[('Ravi', 'NNP'),\n",
       " ('is', 'VBZ'),\n",
       " ('awesome.', 'JJ'),\n",
       " ('accumulation-presence', 'NN'),\n",
       " ('He', 'PRP'),\n",
       " ('is', 'VBZ'),\n",
       " ('going', 'VBG'),\n",
       " ('to', 'TO'),\n",
       " ('Jail.', 'NNP'),\n",
       " ('≤0.03', 'NNP'),\n",
       " ('.375', 'NNP'),\n",
       " ('//', 'NNP'),\n",
       " ('//multiple-sclerosis-research.blogspot.com/2015/09/clinicspeak-is-r', 'NN')]"
      ]
     },
     "execution_count": 117,
     "metadata": {},
     "output_type": "execute_result"
    }
   ],
   "source": [
    "nltk.pos_tag(\"Ravi is awesome. accumulation-presence He is going to Jail. ≤0.03 .375 // //multiple-sclerosis-research.blogspot.com/2015/09/clinicspeak-is-r\".split())"
   ]
  },
  {
   "cell_type": "code",
   "execution_count": null,
   "metadata": {},
   "outputs": [],
   "source": []
  }
 ],
 "metadata": {
  "kernelspec": {
   "display_name": "Python 3",
   "language": "python",
   "name": "python3"
  },
  "language_info": {
   "codemirror_mode": {
    "name": "ipython",
    "version": 3
   },
   "file_extension": ".py",
   "mimetype": "text/x-python",
   "name": "python",
   "nbconvert_exporter": "python",
   "pygments_lexer": "ipython3",
   "version": "3.6.5"
  }
 },
 "nbformat": 4,
 "nbformat_minor": 2
}
